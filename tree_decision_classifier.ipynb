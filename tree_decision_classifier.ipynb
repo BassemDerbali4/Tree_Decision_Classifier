{
 "cells": [
  {
   "cell_type": "code",
   "execution_count": 38,
   "metadata": {},
   "outputs": [],
   "source": [
    "from sklearn.datasets import load_breast_cancer\n",
    "from sklearn.model_selection import train_test_split\n",
    "from sklearn.tree import DecisionTreeClassifier\n",
    "from sklearn.metrics import confusion_matrix\n",
    "import seaborn as sns\n",
    "import matplotlib.pyplot as plt\n",
    "import numpy as np"
   ]
  },
  {
   "cell_type": "code",
   "execution_count": 39,
   "metadata": {},
   "outputs": [
    {
     "name": "stdout",
     "output_type": "stream",
     "text": [
      "X_train shape is  (455, 30)\n",
      "X_test shape is  (114, 30)\n",
      "y_train shape is  (455,)\n",
      "y_test shape is  (114,)\n"
     ]
    }
   ],
   "source": [
    "#load breast cancer data\n",
    "BreastData = load_breast_cancer()\n",
    "\n",
    "#X Data\n",
    "X = BreastData.data\n",
    "#print('X Data is \\n' , X[:10])\n",
    "#print('X shape is ' , X.shape)\n",
    "#print('X Features are \\n' , BreastData.feature_names)\n",
    "\n",
    "#y Data\n",
    "y = BreastData.target\n",
    "#print('y Data is \\n' , y[:10])\n",
    "#print('y shape is ' , y.shape)\n",
    "#print('y Columns are \\n' , BreastData.target_names)\n",
    "\n",
    "#----------------------------------------------------\n",
    "#Splitting data\n",
    "\n",
    "X_train, X_test, y_train, y_test = train_test_split(X, y, test_size=0.2, random_state=44, shuffle =True)\n",
    "\n",
    "#Splitted Data\n",
    "print('X_train shape is ' , X_train.shape)\n",
    "print('X_test shape is ' , X_test.shape)\n",
    "print('y_train shape is ' , y_train.shape)\n",
    "print('y_test shape is ' , y_test.shape)\n"
   ]
  },
  {
   "cell_type": "code",
   "execution_count": 40,
   "metadata": {},
   "outputs": [
    {
     "name": "stdout",
     "output_type": "stream",
     "text": [
      "Accuracy on training set: 1.000\n",
      "Accuracy on test set: 0.947\n"
     ]
    }
   ],
   "source": [
    "tree = DecisionTreeClassifier(random_state=0)\n",
    "tree.fit(X_train, y_train)\n",
    "print(\"Accuracy on training set: {:.3f}\".format(tree.score(X_train, y_train)))\n",
    "print(\"Accuracy on test set: {:.3f}\".format(tree.score(X_test, y_test)))\n"
   ]
  },
  {
   "cell_type": "code",
   "execution_count": 41,
   "metadata": {},
   "outputs": [
    {
     "name": "stdout",
     "output_type": "stream",
     "text": [
      "Accuracy on training set: 0.976\n",
      "Accuracy on test set: 0.939\n"
     ]
    }
   ],
   "source": [
    "tree = DecisionTreeClassifier(max_depth=4, random_state=0)\n",
    "tree.fit(X_train, y_train)\n",
    "print(\"Accuracy on training set: {:.3f}\".format(tree.score(X_train, y_train)))\n",
    "print(\"Accuracy on test set: {:.3f}\".format(tree.score(X_test, y_test)))"
   ]
  },
  {
   "cell_type": "code",
   "execution_count": 42,
   "metadata": {},
   "outputs": [
    {
     "name": "stdout",
     "output_type": "stream",
     "text": [
      "DecisionTreeClassifierModel Train Score is :  0.9758241758241758\n",
      "DecisionTreeClassifierModel Test Score is :  0.9385964912280702\n",
      "DecisionTreeClassifierModel Classes are :  [0 1]\n"
     ]
    }
   ],
   "source": [
    "#Calculating Details\n",
    "print('DecisionTreeClassifierModel Train Score is : ' , tree.score(X_train, y_train))\n",
    "print('DecisionTreeClassifierModel Test Score is : ' , tree.score(X_test, y_test))\n",
    "print('DecisionTreeClassifierModel Classes are : ' , tree.classes_)\n",
    "\n",
    "\n"
   ]
  },
  {
   "cell_type": "code",
   "execution_count": 43,
   "metadata": {},
   "outputs": [
    {
     "name": "stdout",
     "output_type": "stream",
     "text": [
      "Predicted Value for DecisionTreeClassifierModel is :  [0 0 1 0 0 1 1 0 0 1]\n",
      "Prediction Probabilities Value for DecisionTreeClassifierModel is  :\n",
      "  [[0.68421053 0.31578947]\n",
      " [1.         0.        ]\n",
      " [0.00829876 0.99170124]\n",
      " [1.         0.        ]\n",
      " [0.68421053 0.31578947]\n",
      " [0.00829876 0.99170124]\n",
      " [0.00829876 0.99170124]\n",
      " [1.         0.        ]\n",
      " [1.         0.        ]\n",
      " [0.00829876 0.99170124]]\n"
     ]
    }
   ],
   "source": [
    "\n",
    "y_pred = tree.predict(X_test)\n",
    "y_pred_prob = tree.predict_proba(X_test)\n",
    "print('Predicted Value for DecisionTreeClassifierModel is : ' , y_pred[:10])\n",
    "\n",
    "print('Prediction Probabilities Value for DecisionTreeClassifierModel is  :\\n ' , y_pred_prob[:10])\n",
    "\n"
   ]
  },
  {
   "cell_type": "code",
   "execution_count": 44,
   "metadata": {},
   "outputs": [
    {
     "name": "stdout",
     "output_type": "stream",
     "text": [
      "Confusion Matrix is : \n",
      " [[37  2]\n",
      " [ 5 70]]\n"
     ]
    },
    {
     "data": {
      "image/png": "[encoded data removed]",
      "text/plain": [
       "<Figure size 432x288 with 2 Axes>"
      ]
     },
     "metadata": {
      "needs_background": "light"
     },
     "output_type": "display_data"
    }
   ],
   "source": [
    "#Calculating Confusion Matrix\n",
    "CM = confusion_matrix(y_test, y_pred)\n",
    "print('Confusion Matrix is : \\n', CM)\n",
    "\n",
    "# drawing confusion matrix\n",
    "sns.heatmap(CM, center = True)\n",
    "plt.show()\n"
   ]
  },
  {
   "cell_type": "code",
   "execution_count": 45,
   "metadata": {},
   "outputs": [
    {
     "name": "stdout",
     "output_type": "stream",
     "text": [
      "[0 0 1 0 1 1 1 1 0 1]\n",
      "Predicted Value for DecisionTreeClassifierModel is : \n",
      "  [0 0 1 0 0 1 1 0 0 1]\n"
     ]
    }
   ],
   "source": [
    "print(y_test[:10])\n",
    "print('Predicted Value for DecisionTreeClassifierModel is : \\n ' , y_pred[:10])\n"
   ]
  },
  {
   "cell_type": "code",
   "execution_count": 46,
   "metadata": {},
   "outputs": [
    {
     "name": "stdout",
     "output_type": "stream",
     "text": [
      "Feature importances:\n",
      "[0.         0.         0.         0.         0.         0.\n",
      " 0.         0.01297636 0.         0.         0.         0.\n",
      " 0.         0.         0.00677572 0.         0.         0.\n",
      " 0.         0.         0.         0.05612587 0.78000877 0.\n",
      " 0.01673002 0.01008994 0.         0.11729332 0.         0.        ]\n"
     ]
    }
   ],
   "source": [
    "print(\"Feature importances:\\n{}\".format(tree.feature_importances_))\n"
   ]
  },
  {
   "cell_type": "code",
   "execution_count": 54,
   "metadata": {},
   "outputs": [
    {
     "data": {
      "image/png": "[encoded data removed]",
      "text/plain": [
       "<Figure size 1008x1008 with 1 Axes>"
      ]
     },
     "metadata": {
      "needs_background": "light"
     },
     "output_type": "display_data"
    }
   ],
   "source": [
    "def plot_feature_importances_cancer(model):\n",
    " n_features =BreastData.data.shape[1]\n",
    " plt.figure(figsize= (14, 14))\n",
    " plt.barh(range(n_features), model.feature_importances_, align='center')\n",
    " plt.yticks(np.arange(n_features), BreastData.feature_names)\n",
    " plt.xlabel(\"Feature importance\")\n",
    " plt.ylabel(\"Feature\")\n",
    "plot_feature_importances_cancer(tree)\n"
   ]
  },
  {
   "cell_type": "code",
   "execution_count": 52,
   "metadata": {},
   "outputs": [
    {
     "data": {
      "text/plain": [
       "30"
      ]
     },
     "execution_count": 52,
     "metadata": {},
     "output_type": "execute_result"
    }
   ],
   "source": [
    "n_features =BreastData.data.shape[1]\n",
    "n_features"
   ]
  },
  {
   "cell_type": "code",
   "execution_count": 55,
   "metadata": {},
   "outputs": [
    {
     "data": {
      "text/plain": [
       "array(['mean radius', 'mean texture', 'mean perimeter', 'mean area',\n",
       "       'mean smoothness', 'mean compactness', 'mean concavity',\n",
       "       'mean concave points', 'mean symmetry', 'mean fractal dimension',\n",
       "       'radius error', 'texture error', 'perimeter error', 'area error',\n",
       "       'smoothness error', 'compactness error', 'concavity error',\n",
       "       'concave points error', 'symmetry error',\n",
       "       'fractal dimension error', 'worst radius', 'worst texture',\n",
       "       'worst perimeter', 'worst area', 'worst smoothness',\n",
       "       'worst compactness', 'worst concavity', 'worst concave points',\n",
       "       'worst symmetry', 'worst fractal dimension'], dtype='<U23')"
      ]
     },
     "execution_count": 55,
     "metadata": {},
     "output_type": "execute_result"
    }
   ],
   "source": [
    "BreastData.feature_names"
   ]
  },
  {
   "cell_type": "code",
   "execution_count": null,
   "metadata": {},
   "outputs": [],
   "source": []
  }
 ],
 "metadata": {
  "kernelspec": {
   "display_name": "Python 3",
   "language": "python",
   "name": "python3"
  },
  "language_info": {
   "codemirror_mode": {
    "name": "ipython",
    "version": 3
   },
   "file_extension": ".py",
   "mimetype": "text/x-python",
   "name": "python",
   "nbconvert_exporter": "python",
   "pygments_lexer": "ipython3",
   "version": "3.8.5"
  }
 },
 "nbformat": 4,
 "nbformat_minor": 4
}
